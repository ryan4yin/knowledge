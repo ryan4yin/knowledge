{
 "cells": [
  {
   "cell_type": "markdown",
   "metadata": {},
   "source": [
    "### 二、冲激响应\n",
    "\n",
    "冲激响应是由单位冲激函数 $\\delta(t)$ 所引起的零状态响应，记作 $h(t)$\n",
    "\n",
    "求取方法见 2.0 节的零状态响应"
   ]
  },
  {
   "cell_type": "markdown",
   "metadata": {},
   "source": [
    "### 三、阶跃响应\n",
    "\n",
    "阶跃响应是由单位阶跃函数 $u(t)$ 所引起的零状态响应，记作 $g(t)$\n",
    "\n",
    "求取方法：\n",
    "1. 同 冲激响应\n",
    "1. 利用 LTI 系统的线性性质，因为 $u(t) = \\int_{-\\infty}^t \\delta(t) \\ dt$ 而且积分是线性变换，所以有 $g(t) = \\int_{-\\infty}^t h(t) \\ dt$"
   ]
  },
  {
   "cell_type": "markdown",
   "metadata": {},
   "source": [
    "### 四、LTI 系统特性与冲激响应 $h(t)$ 的关系"
   ]
  },
  {
   "cell_type": "markdown",
   "metadata": {},
   "source": [
    "#### 1. 因果性\n",
    "\n",
    "对因果系统而言，因为输入 $\\delta(t)$ 是因果信号，所以响应 $h(t)$ 也一定是因果信号\n",
    "\n",
    "#### 2. 稳定性\n",
    "\n",
    "系统稳定的充要条件是：$\\sum^{\\infty}_{-\\infty} |h(k)| < \\infty$，证明：\n",
    "\n",
    "![](system-steady.png)\n",
    "\n",
    "### 3. 总结\n",
    "\n",
    "![](LTI-system-features-h(t).png)"
   ]
  }
 ],
 "metadata": {
  "kernelspec": {
   "display_name": "Julia 1.6.3",
   "language": "julia",
   "name": "julia-1.6"
  },
  "language_info": {
   "file_extension": ".jl",
   "mimetype": "application/julia",
   "name": "julia",
   "version": "1.6.3"
  }
 },
 "nbformat": 4,
 "nbformat_minor": 2
}
