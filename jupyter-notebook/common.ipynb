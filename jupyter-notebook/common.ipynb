{
 "cells": [
  {
   "cell_type": "markdown",
   "metadata": {},
   "source": [
    "# Python 常用库记录\n",
    "\n",
    "## 一、matplotlib 实用绘图函数"
   ]
  },
  {
   "cell_type": "code",
   "execution_count": 4,
   "metadata": {},
   "outputs": [],
   "source": [
    "%matplotlib inline\n",
    "\n",
    "# 输出 svg，更清晰\n",
    "%config InlineBackend.figure_format = 'svg'\n",
    "\n",
    "from decimal import Decimal\n",
    "\n",
    "import matplotlib.pyplot as plt\n",
    "import numpy as np\n",
    "\n",
    "\n",
    "PI2 = 2 * np.pi"
   ]
  },
  {
   "cell_type": "markdown",
   "metadata": {},
   "source": [
    "### 1. 坐标轴经过原点"
   ]
  },
  {
   "cell_type": "code",
   "execution_count": 2,
   "metadata": {},
   "outputs": [],
   "source": [
    "def set_ticks_pass_zero(axes):\n",
    "    # 隐藏掉右边和上边的坐标轴\n",
    "    # 这里 spine 是脊柱的意思，代指坐标轴（Spines，一条线段上有一系列的凸起，是不是很像脊柱骨啊~）\n",
    "    axes.spines['right'].set_color('none')\n",
    "    axes.spines['top'].set_color('none')\n",
    "    \n",
    "    # 将 bottom/left 的 spines 设为 x/y 坐标轴\n",
    "    axes.xaxis.set_ticks_position('bottom')\n",
    "    axes.yaxis.set_ticks_position('left')\n",
    "    \n",
    "    # 使 spines 都经过原点\n",
    "    axes.spines['bottom'].set_position('zero')  # 即 y 的 data 为 0 的位置\n",
    "    axes.spines['left'].set_position('zero')"
   ]
  },
  {
   "cell_type": "code",
   "execution_count": 3,
   "metadata": {},
   "outputs": [
    {
     "data": {
      "text/plain": [
       "[<matplotlib.lines.Line2D at 0x7f418d596fd0>]"
      ]
     },
     "execution_count": 3,
     "metadata": {},
     "output_type": "execute_result"
    },
    {
     "data": {
      "image/svg+xml": "<?xml version=\"1.0\" encoding=\"utf-8\" standalone=\"no\"?>\n<!DOCTYPE svg PUBLIC \"-//W3C//DTD SVG 1.1//EN\"\n  \"http://www.w3.org/Graphics/SVG/1.1/DTD/svg11.dtd\">\n<!-- Created with matplotlib (https://matplotlib.org/) -->\n<svg height=\"238.84pt\" version=\"1.1\" viewBox=\"0 0 356.2 238.84\" width=\"356.2pt\" xmlns=\"http://www.w3.org/2000/svg\" xmlns:xlink=\"http://www.w3.org/1999/xlink\">\n <defs>\n  <style type=\"text/css\">\n*{stroke-linecap:butt;stroke-linejoin:round;}\n  </style>\n </defs>\n <g id=\"figure_1\">\n  <g id=\"patch_1\">\n   <path d=\"M 0 238.84 \nL 356.2 238.84 \nL 356.2 0 \nL 0 0 \nz\n\" style=\"fill:none;\"/>\n  </g>\n  <g id=\"axes_1\">\n   <g id=\"patch_2\">\n    <path d=\"M 10.7 228.14 \nL 345.5 228.14 \nL 345.5 10.7 \nL 10.7 10.7 \nz\n\" style=\"fill:#ffffff;\"/>\n   </g>\n   <g id=\"matplotlib.axis_1\">\n    <g id=\"xtick_1\">\n     <g id=\"line2d_1\">\n      <defs>\n       <path d=\"M 0 0 \nL 0 3.5 \n\" id=\"m5578c4eb8b\" style=\"stroke:#000000;stroke-width:0.8;\"/>\n      </defs>\n      <g>\n       <use style=\"stroke:#000000;stroke-width:0.8;\" x=\"18.244775\" xlink:href=\"#m5578c4eb8b\" y=\"119.42\"/>\n      </g>\n     </g>\n     <g id=\"text_1\">\n      <!-- −6 -->\n      <defs>\n       <path d=\"M 10.59375 35.5 \nL 73.1875 35.5 \nL 73.1875 27.203125 \nL 10.59375 27.203125 \nz\n\" id=\"DejaVuSans-8722\"/>\n       <path d=\"M 33.015625 40.375 \nQ 26.375 40.375 22.484375 35.828125 \nQ 18.609375 31.296875 18.609375 23.390625 \nQ 18.609375 15.53125 22.484375 10.953125 \nQ 26.375 6.390625 33.015625 6.390625 \nQ 39.65625 6.390625 43.53125 10.953125 \nQ 47.40625 15.53125 47.40625 23.390625 \nQ 47.40625 31.296875 43.53125 35.828125 \nQ 39.65625 40.375 33.015625 40.375 \nz\nM 52.59375 71.296875 \nL 52.59375 62.3125 \nQ 48.875 64.0625 45.09375 64.984375 \nQ 41.3125 65.921875 37.59375 65.921875 \nQ 27.828125 65.921875 22.671875 59.328125 \nQ 17.53125 52.734375 16.796875 39.40625 \nQ 19.671875 43.65625 24.015625 45.921875 \nQ 28.375 48.1875 33.59375 48.1875 \nQ 44.578125 48.1875 50.953125 41.515625 \nQ 57.328125 34.859375 57.328125 23.390625 \nQ 57.328125 12.15625 50.6875 5.359375 \nQ 44.046875 -1.421875 33.015625 -1.421875 \nQ 20.359375 -1.421875 13.671875 8.265625 \nQ 6.984375 17.96875 6.984375 36.375 \nQ 6.984375 53.65625 15.1875 63.9375 \nQ 23.390625 74.21875 37.203125 74.21875 \nQ 40.921875 74.21875 44.703125 73.484375 \nQ 48.484375 72.75 52.59375 71.296875 \nz\n\" id=\"DejaVuSans-54\"/>\n      </defs>\n      <g transform=\"translate(10.873681 134.018437)scale(0.1 -0.1)\">\n       <use xlink:href=\"#DejaVuSans-8722\"/>\n       <use x=\"83.789062\" xlink:href=\"#DejaVuSans-54\"/>\n      </g>\n     </g>\n    </g>\n    <g id=\"xtick_2\">\n     <g id=\"line2d_2\">\n      <g>\n       <use style=\"stroke:#000000;stroke-width:0.8;\" x=\"71.52985\" xlink:href=\"#m5578c4eb8b\" y=\"119.42\"/>\n      </g>\n     </g>\n     <g id=\"text_2\">\n      <!-- −4 -->\n      <defs>\n       <path d=\"M 37.796875 64.3125 \nL 12.890625 25.390625 \nL 37.796875 25.390625 \nz\nM 35.203125 72.90625 \nL 47.609375 72.90625 \nL 47.609375 25.390625 \nL 58.015625 25.390625 \nL 58.015625 17.1875 \nL 47.609375 17.1875 \nL 47.609375 0 \nL 37.796875 0 \nL 37.796875 17.1875 \nL 4.890625 17.1875 \nL 4.890625 26.703125 \nz\n\" id=\"DejaVuSans-52\"/>\n      </defs>\n      <g transform=\"translate(64.158756 134.018437)scale(0.1 -0.1)\">\n       <use xlink:href=\"#DejaVuSans-8722\"/>\n       <use x=\"83.789062\" xlink:href=\"#DejaVuSans-52\"/>\n      </g>\n     </g>\n    </g>\n    <g id=\"xtick_3\">\n     <g id=\"line2d_3\">\n      <g>\n       <use style=\"stroke:#000000;stroke-width:0.8;\" x=\"124.814925\" xlink:href=\"#m5578c4eb8b\" y=\"119.42\"/>\n      </g>\n     </g>\n     <g id=\"text_3\">\n      <!-- −2 -->\n      <defs>\n       <path d=\"M 19.1875 8.296875 \nL 53.609375 8.296875 \nL 53.609375 0 \nL 7.328125 0 \nL 7.328125 8.296875 \nQ 12.9375 14.109375 22.625 23.890625 \nQ 32.328125 33.6875 34.8125 36.53125 \nQ 39.546875 41.84375 41.421875 45.53125 \nQ 43.3125 49.21875 43.3125 52.78125 \nQ 43.3125 58.59375 39.234375 62.25 \nQ 35.15625 65.921875 28.609375 65.921875 \nQ 23.96875 65.921875 18.8125 64.3125 \nQ 13.671875 62.703125 7.8125 59.421875 \nL 7.8125 69.390625 \nQ 13.765625 71.78125 18.9375 73 \nQ 24.125 74.21875 28.421875 74.21875 \nQ 39.75 74.21875 46.484375 68.546875 \nQ 53.21875 62.890625 53.21875 53.421875 \nQ 53.21875 48.921875 51.53125 44.890625 \nQ 49.859375 40.875 45.40625 35.40625 \nQ 44.1875 33.984375 37.640625 27.21875 \nQ 31.109375 20.453125 19.1875 8.296875 \nz\n\" id=\"DejaVuSans-50\"/>\n      </defs>\n      <g transform=\"translate(117.443831 134.018437)scale(0.1 -0.1)\">\n       <use xlink:href=\"#DejaVuSans-8722\"/>\n       <use x=\"83.789062\" xlink:href=\"#DejaVuSans-50\"/>\n      </g>\n     </g>\n    </g>\n    <g id=\"xtick_4\">\n     <g id=\"line2d_4\">\n      <g>\n       <use style=\"stroke:#000000;stroke-width:0.8;\" x=\"178.1\" xlink:href=\"#m5578c4eb8b\" y=\"119.42\"/>\n      </g>\n     </g>\n     <g id=\"text_4\">\n      <!-- 0 -->\n      <defs>\n       <path d=\"M 31.78125 66.40625 \nQ 24.171875 66.40625 20.328125 58.90625 \nQ 16.5 51.421875 16.5 36.375 \nQ 16.5 21.390625 20.328125 13.890625 \nQ 24.171875 6.390625 31.78125 6.390625 \nQ 39.453125 6.390625 43.28125 13.890625 \nQ 47.125 21.390625 47.125 36.375 \nQ 47.125 51.421875 43.28125 58.90625 \nQ 39.453125 66.40625 31.78125 66.40625 \nz\nM 31.78125 74.21875 \nQ 44.046875 74.21875 50.515625 64.515625 \nQ 56.984375 54.828125 56.984375 36.375 \nQ 56.984375 17.96875 50.515625 8.265625 \nQ 44.046875 -1.421875 31.78125 -1.421875 \nQ 19.53125 -1.421875 13.0625 8.265625 \nQ 6.59375 17.96875 6.59375 36.375 \nQ 6.59375 54.828125 13.0625 64.515625 \nQ 19.53125 74.21875 31.78125 74.21875 \nz\n\" id=\"DejaVuSans-48\"/>\n      </defs>\n      <g transform=\"translate(174.91875 134.018437)scale(0.1 -0.1)\">\n       <use xlink:href=\"#DejaVuSans-48\"/>\n      </g>\n     </g>\n    </g>\n    <g id=\"xtick_5\">\n     <g id=\"line2d_5\">\n      <g>\n       <use style=\"stroke:#000000;stroke-width:0.8;\" x=\"231.385075\" xlink:href=\"#m5578c4eb8b\" y=\"119.42\"/>\n      </g>\n     </g>\n     <g id=\"text_5\">\n      <!-- 2 -->\n      <g transform=\"translate(228.203825 134.018437)scale(0.1 -0.1)\">\n       <use xlink:href=\"#DejaVuSans-50\"/>\n      </g>\n     </g>\n    </g>\n    <g id=\"xtick_6\">\n     <g id=\"line2d_6\">\n      <g>\n       <use style=\"stroke:#000000;stroke-width:0.8;\" x=\"284.67015\" xlink:href=\"#m5578c4eb8b\" y=\"119.42\"/>\n      </g>\n     </g>\n     <g id=\"text_6\">\n      <!-- 4 -->\n      <g transform=\"translate(281.4889 134.018437)scale(0.1 -0.1)\">\n       <use xlink:href=\"#DejaVuSans-52\"/>\n      </g>\n     </g>\n    </g>\n    <g id=\"xtick_7\">\n     <g id=\"line2d_7\">\n      <g>\n       <use style=\"stroke:#000000;stroke-width:0.8;\" x=\"337.955225\" xlink:href=\"#m5578c4eb8b\" y=\"119.42\"/>\n      </g>\n     </g>\n     <g id=\"text_7\">\n      <!-- 6 -->\n      <g transform=\"translate(334.773975 134.018437)scale(0.1 -0.1)\">\n       <use xlink:href=\"#DejaVuSans-54\"/>\n      </g>\n     </g>\n    </g>\n   </g>\n   <g id=\"matplotlib.axis_2\">\n    <g id=\"ytick_1\">\n     <g id=\"line2d_8\">\n      <defs>\n       <path d=\"M 0 0 \nL -3.5 0 \n\" id=\"medcdc1042d\" style=\"stroke:#000000;stroke-width:0.8;\"/>\n      </defs>\n      <g>\n       <use style=\"stroke:#000000;stroke-width:0.8;\" x=\"178.1\" xlink:href=\"#medcdc1042d\" y=\"223.239952\"/>\n      </g>\n     </g>\n     <g id=\"text_8\">\n      <!-- −6 -->\n      <g transform=\"translate(156.357813 227.039171)scale(0.1 -0.1)\">\n       <use xlink:href=\"#DejaVuSans-8722\"/>\n       <use x=\"83.789062\" xlink:href=\"#DejaVuSans-54\"/>\n      </g>\n     </g>\n    </g>\n    <g id=\"ytick_2\">\n     <g id=\"line2d_9\">\n      <g>\n       <use style=\"stroke:#000000;stroke-width:0.8;\" x=\"178.1\" xlink:href=\"#medcdc1042d\" y=\"188.633302\"/>\n      </g>\n     </g>\n     <g id=\"text_9\">\n      <!-- −4 -->\n      <g transform=\"translate(156.357813 192.43252)scale(0.1 -0.1)\">\n       <use xlink:href=\"#DejaVuSans-8722\"/>\n       <use x=\"83.789062\" xlink:href=\"#DejaVuSans-52\"/>\n      </g>\n     </g>\n    </g>\n    <g id=\"ytick_3\">\n     <g id=\"line2d_10\">\n      <g>\n       <use style=\"stroke:#000000;stroke-width:0.8;\" x=\"178.1\" xlink:href=\"#medcdc1042d\" y=\"154.026651\"/>\n      </g>\n     </g>\n     <g id=\"text_10\">\n      <!-- −2 -->\n      <g transform=\"translate(156.357813 157.82587)scale(0.1 -0.1)\">\n       <use xlink:href=\"#DejaVuSans-8722\"/>\n       <use x=\"83.789062\" xlink:href=\"#DejaVuSans-50\"/>\n      </g>\n     </g>\n    </g>\n    <g id=\"ytick_4\">\n     <g id=\"line2d_11\">\n      <g>\n       <use style=\"stroke:#000000;stroke-width:0.8;\" x=\"178.1\" xlink:href=\"#medcdc1042d\" y=\"119.42\"/>\n      </g>\n     </g>\n     <g id=\"text_11\">\n      <!-- 0 -->\n      <g transform=\"translate(164.7375 123.219219)scale(0.1 -0.1)\">\n       <use xlink:href=\"#DejaVuSans-48\"/>\n      </g>\n     </g>\n    </g>\n    <g id=\"ytick_5\">\n     <g id=\"line2d_12\">\n      <g>\n       <use style=\"stroke:#000000;stroke-width:0.8;\" x=\"178.1\" xlink:href=\"#medcdc1042d\" y=\"84.813349\"/>\n      </g>\n     </g>\n     <g id=\"text_12\">\n      <!-- 2 -->\n      <g transform=\"translate(164.7375 88.612568)scale(0.1 -0.1)\">\n       <use xlink:href=\"#DejaVuSans-50\"/>\n      </g>\n     </g>\n    </g>\n    <g id=\"ytick_6\">\n     <g id=\"line2d_13\">\n      <g>\n       <use style=\"stroke:#000000;stroke-width:0.8;\" x=\"178.1\" xlink:href=\"#medcdc1042d\" y=\"50.206698\"/>\n      </g>\n     </g>\n     <g id=\"text_13\">\n      <!-- 4 -->\n      <g transform=\"translate(164.7375 54.005917)scale(0.1 -0.1)\">\n       <use xlink:href=\"#DejaVuSans-52\"/>\n      </g>\n     </g>\n    </g>\n    <g id=\"ytick_7\">\n     <g id=\"line2d_14\">\n      <g>\n       <use style=\"stroke:#000000;stroke-width:0.8;\" x=\"178.1\" xlink:href=\"#medcdc1042d\" y=\"15.600048\"/>\n      </g>\n     </g>\n     <g id=\"text_14\">\n      <!-- 6 -->\n      <g transform=\"translate(164.7375 19.399266)scale(0.1 -0.1)\">\n       <use xlink:href=\"#DejaVuSans-54\"/>\n      </g>\n     </g>\n    </g>\n   </g>\n   <g id=\"line2d_15\">\n    <path clip-path=\"url(#p35dde807f2)\" d=\"M 10.7 119.42 \nL 20.024888 113.486728 \nL 25.08697 110.523738 \nL 29.349776 108.272892 \nL 33.079731 106.535198 \nL 36.543261 105.146734 \nL 40.006791 103.999149 \nL 43.203896 103.170458 \nL 46.401 102.57548 \nL 49.598105 102.222772 \nL 52.528784 102.11668 \nL 55.459463 102.219747 \nL 58.390142 102.530727 \nL 61.587247 103.102619 \nL 64.784351 103.9092 \nL 67.981456 104.938868 \nL 71.444985 106.28884 \nL 75.174941 107.989749 \nL 79.171321 110.059382 \nL 83.700553 112.656393 \nL 89.561911 116.295084 \nL 106.613135 127.077075 \nL 111.142366 129.591883 \nL 115.138747 131.569466 \nL 118.868702 133.169841 \nL 122.332232 134.415575 \nL 125.529337 135.341275 \nL 128.726441 136.037984 \nL 131.923546 136.49568 \nL 134.854225 136.699585 \nL 137.784904 136.694618 \nL 140.715583 136.480839 \nL 143.912687 136.012579 \nL 147.109792 135.305672 \nL 150.306896 134.370286 \nL 153.770426 133.114798 \nL 157.500381 131.504962 \nL 161.496762 129.518647 \nL 166.025993 126.995941 \nL 171.354501 123.754292 \nL 180.146538 118.092157 \nL 187.872874 113.214269 \nL 192.934956 110.275457 \nL 197.197762 108.051947 \nL 200.927718 106.34283 \nL 204.391247 104.984286 \nL 207.854777 103.869361 \nL 211.051882 103.072776 \nL 214.248986 102.511309 \nL 217.179665 102.210134 \nL 220.110345 102.116988 \nL 223.041024 102.232998 \nL 225.971703 102.55676 \nL 229.168807 103.142233 \nL 232.365912 103.961824 \nL 235.563016 105.003746 \nL 239.026546 106.365935 \nL 242.756501 108.07854 \nL 246.752882 110.158771 \nL 251.282113 112.765085 \nL 257.143472 116.411134 \nL 273.92827 127.02761 \nL 278.457502 129.547244 \nL 282.453882 131.530159 \nL 286.183837 133.136311 \nL 289.647367 134.387999 \nL 292.844472 135.31961 \nL 296.041576 136.022541 \nL 299.238681 136.486683 \nL 302.16936 136.696612 \nL 305.100039 136.697704 \nL 308.030718 136.489947 \nL 311.227823 136.028129 \nL 314.424927 135.327441 \nL 317.622032 134.39796 \nL 321.085562 133.148417 \nL 324.549091 131.667191 \nL 328.545472 129.703027 \nL 332.808278 127.354559 \nL 337.87036 124.307714 \nL 345.330271 119.530232 \nL 345.330271 119.530232 \n\" style=\"fill:none;stroke:#1f77b4;stroke-linecap:square;stroke-width:1.5;\"/>\n   </g>\n   <g id=\"patch_3\">\n    <path d=\"M 178.1 228.14 \nL 178.1 10.7 \n\" style=\"fill:none;stroke:#000000;stroke-linecap:square;stroke-linejoin:miter;stroke-width:0.8;\"/>\n   </g>\n   <g id=\"patch_4\">\n    <path d=\"M 345.5 228.14 \nL 345.5 10.7 \n\" style=\"fill:none;\"/>\n   </g>\n   <g id=\"patch_5\">\n    <path d=\"M 10.7 119.42 \nL 345.5 119.42 \n\" style=\"fill:none;stroke:#000000;stroke-linecap:square;stroke-linejoin:miter;stroke-width:0.8;\"/>\n   </g>\n   <g id=\"patch_6\">\n    <path d=\"M 10.7 10.7 \nL 345.5 10.7 \n\" style=\"fill:none;\"/>\n   </g>\n  </g>\n </g>\n <defs>\n  <clipPath id=\"p35dde807f2\">\n   <rect height=\"217.44\" width=\"334.8\" x=\"10.7\" y=\"10.7\"/>\n  </clipPath>\n </defs>\n</svg>\n",
      "text/plain": [
       "<Figure size 720x480 with 1 Axes>"
      ]
     },
     "metadata": {
      "needs_background": "light"
     },
     "output_type": "display_data"
    }
   ],
   "source": [
    "fig, ax = plt.subplots(dpi=120)\n",
    "\n",
    "set_ticks_pass_zero(ax)\n",
    "\n",
    "ax.set_xlim(-PI2, PI2)\n",
    "ax.set_ylim(-PI2, PI2)\n",
    "\n",
    "# set_axis_pi(ax, Decimal('2'), Decimal('0.5'))\n",
    "\n",
    "x = np.arange(-PI2, PI2, 0.01)\n",
    "y = np.sin(x)\n",
    "ax.plot(x,y)"
   ]
  },
  {
   "cell_type": "markdown",
   "metadata": {},
   "source": [
    "### 2. 坐标用 pi 标注"
   ]
  },
  {
   "cell_type": "code",
   "execution_count": 4,
   "metadata": {},
   "outputs": [],
   "source": [
    "def _range_decimal(start: Decimal, stop: Decimal, step: Decimal):\n",
    "    if start >= stop:\n",
    "        raise RuntimeError(\"start >= stop can't be true!\")\n",
    "\n",
    "    res = []\n",
    "    num = start\n",
    "    while num < stop:\n",
    "        res.append(num)\n",
    "        num += step\n",
    "    \n",
    "    return res[1:]  # 返回一个全开区间，即不包括 start 和 stop 的区间\n",
    "\n",
    "\n",
    "def _get_label(n: Decimal):\n",
    "    a, b = n.as_integer_ratio()\n",
    "    \n",
    "    if b == 1:  # 分母为 1，即为整数\n",
    "        if n == Decimal('0'):\n",
    "            return '0'\n",
    "        elif abs(n) == Decimal('1'):  # n 为 1\n",
    "            return r'$\\pi$' if n >= 0 else r'$-\\pi$'\n",
    "        else:\n",
    "            return rf'${a} \\pi$'\n",
    "    else: # 为分数\n",
    "        return r'$\\frac{'+ str(a) + '}{' + str(b) + '} \\pi$'\n",
    "\n",
    "    \n",
    "def set_axis_pi(axes, n: Decimal, step: Decimal):\n",
    "    \"\"\"\n",
    "    x/y 坐标轴的 limit 为 -n*pi 到 n*pi\n",
    "    tick 的间隔为 step*pi\n",
    "    \"\"\"\n",
    "    n_pi = float(n) * np.pi\n",
    "    \n",
    "    # 设置坐标轴的 limit\n",
    "    axes.set_xlim(-n_pi, n_pi)\n",
    "    axes.set_ylim(-n_pi, n_pi)\n",
    "    \n",
    "    # 设置 ticks\n",
    "    ticks_without_pi = _range_decimal(-n, Decimal('0'), step) + _range_decimal(Decimal('0'), n , step)  # 这个是 pi 的系数 range\n",
    "    ticks = [float(it)*np.pi for it in ticks_without_pi]  # 乘上pi\n",
    "    \n",
    "    labels = list(map(_get_label, ticks_without_pi))  # 标签\n",
    "    \n",
    "    # 设置 x/y 轴的坐标\n",
    "    axes.set_xticks(ticks)\n",
    "    axes.set_xticklabels(labels)\n",
    "    axes.set_yticks(ticks)\n",
    "    axes.set_yticklabels(labels)\n",
    "    "
   ]
  },
  {
   "cell_type": "markdown",
   "metadata": {},
   "source": [
    "## 二、pandas 常见用法"
   ]
  },
  {
   "cell_type": "code",
   "execution_count": null,
   "metadata": {},
   "outputs": [],
   "source": [
    "import pandas as pd\n",
    "\n",
    "# 读取 csv，得到一个 DataFrame 对象\n",
    "## 使用第一行作为 csv 列名\n",
    "df = pd.read_csv(\"xxx.csv\", header=0)\n",
    "# csv 不包含列名，直接自动生成数字 0123 作为列名\n",
    "df = pd.read_csv(\"xxx.csv\", header=None)\n",
    "## csv 不包含列名，手动设定列名\n",
    "df = pd.read_csv(\"xxx.csv\", names=['col1', 'col2', 'col3'])\n",
    "# 尤其注意对 NULL 值的处理，这里自行设定要转换为 NULL 的值\n",
    "df = pd.read_csv(\"xxx.csv\", header=None, na_vaules=['NA', 'null', '', 'NAN'])\n",
    "\n",
    "# 使用 python 中的数据构造 DataFrame 对象\n",
    "## 方法一：使用字典，key 为列名，value 为列数据\n",
    "df = pd.DataFrame({\n",
    "    \"col1\": [1, 2, 3, 4],\n",
    "    \"col2\": [2, 3, 4, 5],\n",
    "    \"col3\": [3, 4, 5, 6],\n",
    "})\n",
    "## 方法二：使用两个列表\n",
    "df = pd.DataFrame([\n",
    "        [1, 2, 3, 4],\n",
    "        [2, 3, 4, 5],\n",
    "        [3, 4, 5, 6],\n",
    "    ],\n",
    "    names=['col1', 'col2', 'col3'],  # 或者直接省略 names，使用数字列名\n",
    ")\n",
    "\n",
    "# 导出 csv 文件，去掉索引，保留列名(header)\n",
    "df.to_csv(\"xxx.csv\", header=True, index=False)\n",
    "\n",
    "# 查看表格的前五行\n",
    "df.head()\n",
    "\n",
    "# 列索引\n",
    "df['col1']\n",
    "df[['col1', ['col2']]]\n",
    "## 当列名为有效的 Python 变量名称时，可以直接使用如下语法\n",
    "df.col1\n",
    "df.col2\n",
    "\n",
    "\n",
    "# 使用 index labels 来索引表格的行（labels 可以为 str）\n",
    "df.loc[1]  # 返回一个 Series 对象\n",
    "df.loc[[1,2,3]]  # 多行索引，返回 DataFrame\n",
    "\n",
    "# 完全基于整数的行索引\n",
    "df.iloc[1]  # 返回一个 Series 对象\n",
    "df.iloc[[2, 3]]  # 多列索引，返回 DataFrame\n",
    "\n",
    "# 行索引\n",
    "df[:100] # 前 100 行\n",
    "df[df['col2'] > 1]  # 所有 df['col2'] 大于 1 的行\n",
    "df[(df['col2'] > 1) & (df['col1'].strip().len() > 0)]  # 多个索引条件分别使用括号包裹，并使用 & | 符号做逐元素的布尔运算\n",
    "\n",
    "# 转置此表格\n",
    "df.T\n",
    "\n",
    "# 排序\n",
    "## axis=0 表示按行排序，这也是默认行为\n",
    "df.sort_values(['col1', 'col2'], axis=0, ascending=True)  # 先使用 col1 排序，col1 不能确定的再按 col2 排序\n",
    "## axis=1 或者 axis='columns' 表示按列排序\n",
    "\n",
    "## 遍历 DataFrame 的所有行时，可以使用 df.iterrows() df.iteritems()，但是不推荐使用（因为性能不佳）\n",
    "df.apply(lambda it: it, axix=0)  # 按列应用函数\n",
    "df.apply(lambda it: it, axix=2)  # 按行应用函数\n",
    "df.applymap(lambda it: it)  # 逐元素应用函数\n",
    "\n",
    "# 修改 DataFrame 的 index 或者 column names\n",
    "df.rename(columns=['c1', 'c2', 'c3'])\n",
    "\n",
    "# 使用 groupby 进行分组，对 col3 这一列进行分组求和（感觉和 SQL 有点像）\n",
    "df.groupby(['col1', 'col2'])['col3'].sum()\n",
    "\n",
    "# 使用 join 横向拼接 DataFrame\n",
    "df.join(df2)\n",
    "\n",
    "# 使用 merge 按某一列的值进行横向拼接，类似 SQL 的 JOIN ON\n",
    "df.merge(df2, left_on='key', how='inner')  # df 和 df2 都需要有 key 这一列\n",
    "\n",
    "# 合并两个 DataFrame，上下拼接\n",
    "pd.concat([df1, df2])\n"
   ]
  }
 ],
 "metadata": {
  "kernelspec": {
   "display_name": "Python 3",
   "language": "python",
   "name": "python3"
  },
  "language_info": {
   "codemirror_mode": {
    "name": "ipython",
    "version": 3
   },
   "file_extension": ".py",
   "mimetype": "text/x-python",
   "name": "python",
   "nbconvert_exporter": "python",
   "pygments_lexer": "ipython3",
   "version": "3.7.1"
  }
 },
 "nbformat": 4,
 "nbformat_minor": 2
}
